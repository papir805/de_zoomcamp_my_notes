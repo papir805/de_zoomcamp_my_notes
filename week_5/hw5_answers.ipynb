{
 "cells": [
  {
   "cell_type": "code",
   "execution_count": 1,
   "id": "5f472654",
   "metadata": {},
   "outputs": [],
   "source": [
    "import pandas as pd\n",
    "import pyspark\n",
    "from pyspark.sql import SparkSession"
   ]
  },
  {
   "cell_type": "code",
   "execution_count": 2,
   "id": "07aeef97",
   "metadata": {
    "scrolled": false
   },
   "outputs": [
    {
     "name": "stderr",
     "output_type": "stream",
     "text": [
      "WARNING: An illegal reflective access operation has occurred\n",
      "WARNING: Illegal reflective access by org.apache.spark.unsafe.Platform (file:/home/rancher/spark/spark-3.0.3-bin-hadoop3.2/jars/spark-unsafe_2.12-3.0.3.jar) to constructor java.nio.DirectByteBuffer(long,int)\n",
      "WARNING: Please consider reporting this to the maintainers of org.apache.spark.unsafe.Platform\n",
      "WARNING: Use --illegal-access=warn to enable warnings of further illegal reflective access operations\n",
      "WARNING: All illegal access operations will be denied in a future release\n",
      "22/02/24 06:21:21 WARN NativeCodeLoader: Unable to load native-hadoop library for your platform... using builtin-java classes where applicable\n",
      "Using Spark's default log4j profile: org/apache/spark/log4j-defaults.properties\n",
      "Setting default log level to \"WARN\".\n",
      "To adjust logging level use sc.setLogLevel(newLevel). For SparkR, use setLogLevel(newLevel).\n"
     ]
    }
   ],
   "source": [
    "spark = SparkSession.builder \\\n",
    "    .master(\"local[*]\") \\\n",
    "    .appName('test') \\\n",
    "    .getOrCreate()"
   ]
  },
  {
   "cell_type": "code",
   "execution_count": 3,
   "id": "ef8f61b7",
   "metadata": {},
   "outputs": [],
   "source": [
    "df_pandas = pd.read_csv('/home/rancher/data/fhvhv_tripdata_2021-02.csv',\n",
    "                           parse_dates=['pickup_datetime', 'dropoff_datetime'],\n",
    "                           nrows=100)"
   ]
  },
  {
   "cell_type": "code",
   "execution_count": 4,
   "id": "59c63f4a",
   "metadata": {},
   "outputs": [],
   "source": [
    "fhvhv_pandas = spark.createDataFrame(df_pandas)"
   ]
  },
  {
   "cell_type": "code",
   "execution_count": 6,
   "id": "d56ebd75",
   "metadata": {},
   "outputs": [],
   "source": [
    "fhvhv_schema = fhvhv_pandas.schema"
   ]
  },
  {
   "cell_type": "code",
   "execution_count": 164,
   "id": "f60774b5",
   "metadata": {},
   "outputs": [],
   "source": [
    "fhvhv_df_spark = spark.read.csv('/home/rancher/data/fhvhv_tripdata_2021-02.csv', schema=fhvhv_schema)"
   ]
  },
  {
   "cell_type": "markdown",
   "id": "5b6f74de",
   "metadata": {},
   "source": [
    "# Question 1 - What version of spark?"
   ]
  },
  {
   "cell_type": "code",
   "execution_count": 159,
   "id": "3a4da95a",
   "metadata": {
    "scrolled": true
   },
   "outputs": [
    {
     "data": {
      "text/plain": [
       "'3.0.3'"
      ]
     },
     "execution_count": 159,
     "metadata": {},
     "output_type": "execute_result"
    }
   ],
   "source": [
    "pyspark.__version__"
   ]
  },
  {
   "cell_type": "markdown",
   "id": "33008635",
   "metadata": {},
   "source": [
    "Answer: 3.0.3"
   ]
  },
  {
   "cell_type": "markdown",
   "id": "602d0309",
   "metadata": {},
   "source": [
    "# Question 2 - Total size of all partitions of FHVHV in February 2021"
   ]
  },
  {
   "cell_type": "code",
   "execution_count": 165,
   "id": "08cf0d12",
   "metadata": {},
   "outputs": [],
   "source": [
    "fhvhv_df_spark = fhvhv_df_spark.repartition(24)"
   ]
  },
  {
   "cell_type": "code",
   "execution_count": 166,
   "id": "41c182ae",
   "metadata": {},
   "outputs": [
    {
     "name": "stderr",
     "output_type": "stream",
     "text": [
      "                                                                                \r"
     ]
    }
   ],
   "source": [
    "fhvhv_df_spark.write.parquet('/home/rancher/data/fhvhv/2021/02', mode='overwrite')"
   ]
  },
  {
   "cell_type": "code",
   "execution_count": 182,
   "id": "2de7c2a5",
   "metadata": {},
   "outputs": [
    {
     "name": "stdout",
     "output_type": "stream",
     "text": [
      "/home/rancher/data/fhvhv/2021/02:\r\n",
      "total 209M\r\n",
      "-rw-r--r-- 1 rancher rancher 0M Feb 26 00:21 _SUCCESS\r\n",
      "-rw-r--r-- 1 rancher rancher 9M Feb 26 00:20 part-00000-9610adeb-1773-43e9-99cf-aa5a2e379980-c000.snappy.parquet\r\n",
      "-rw-r--r-- 1 rancher rancher 9M Feb 26 00:20 part-00001-9610adeb-1773-43e9-99cf-aa5a2e379980-c000.snappy.parquet\r\n",
      "-rw-r--r-- 1 rancher rancher 9M Feb 26 00:20 part-00002-9610adeb-1773-43e9-99cf-aa5a2e379980-c000.snappy.parquet\r\n",
      "-rw-r--r-- 1 rancher rancher 9M Feb 26 00:20 part-00003-9610adeb-1773-43e9-99cf-aa5a2e379980-c000.snappy.parquet\r\n",
      "-rw-r--r-- 1 rancher rancher 9M Feb 26 00:20 part-00004-9610adeb-1773-43e9-99cf-aa5a2e379980-c000.snappy.parquet\r\n",
      "-rw-r--r-- 1 rancher rancher 9M Feb 26 00:20 part-00005-9610adeb-1773-43e9-99cf-aa5a2e379980-c000.snappy.parquet\r\n",
      "-rw-r--r-- 1 rancher rancher 9M Feb 26 00:20 part-00006-9610adeb-1773-43e9-99cf-aa5a2e379980-c000.snappy.parquet\r\n",
      "-rw-r--r-- 1 rancher rancher 9M Feb 26 00:20 part-00007-9610adeb-1773-43e9-99cf-aa5a2e379980-c000.snappy.parquet\r\n",
      "-rw-r--r-- 1 rancher rancher 9M Feb 26 00:20 part-00008-9610adeb-1773-43e9-99cf-aa5a2e379980-c000.snappy.parquet\r\n",
      "-rw-r--r-- 1 rancher rancher 9M Feb 26 00:20 part-00009-9610adeb-1773-43e9-99cf-aa5a2e379980-c000.snappy.parquet\r\n",
      "-rw-r--r-- 1 rancher rancher 9M Feb 26 00:20 part-00010-9610adeb-1773-43e9-99cf-aa5a2e379980-c000.snappy.parquet\r\n",
      "-rw-r--r-- 1 rancher rancher 9M Feb 26 00:20 part-00011-9610adeb-1773-43e9-99cf-aa5a2e379980-c000.snappy.parquet\r\n",
      "-rw-r--r-- 1 rancher rancher 9M Feb 26 00:20 part-00012-9610adeb-1773-43e9-99cf-aa5a2e379980-c000.snappy.parquet\r\n",
      "-rw-r--r-- 1 rancher rancher 9M Feb 26 00:20 part-00013-9610adeb-1773-43e9-99cf-aa5a2e379980-c000.snappy.parquet\r\n",
      "-rw-r--r-- 1 rancher rancher 9M Feb 26 00:20 part-00014-9610adeb-1773-43e9-99cf-aa5a2e379980-c000.snappy.parquet\r\n",
      "-rw-r--r-- 1 rancher rancher 9M Feb 26 00:20 part-00015-9610adeb-1773-43e9-99cf-aa5a2e379980-c000.snappy.parquet\r\n",
      "-rw-r--r-- 1 rancher rancher 9M Feb 26 00:21 part-00016-9610adeb-1773-43e9-99cf-aa5a2e379980-c000.snappy.parquet\r\n",
      "-rw-r--r-- 1 rancher rancher 9M Feb 26 00:21 part-00017-9610adeb-1773-43e9-99cf-aa5a2e379980-c000.snappy.parquet\r\n",
      "-rw-r--r-- 1 rancher rancher 9M Feb 26 00:21 part-00018-9610adeb-1773-43e9-99cf-aa5a2e379980-c000.snappy.parquet\r\n",
      "-rw-r--r-- 1 rancher rancher 9M Feb 26 00:21 part-00019-9610adeb-1773-43e9-99cf-aa5a2e379980-c000.snappy.parquet\r\n",
      "-rw-r--r-- 1 rancher rancher 9M Feb 26 00:21 part-00020-9610adeb-1773-43e9-99cf-aa5a2e379980-c000.snappy.parquet\r\n",
      "-rw-r--r-- 1 rancher rancher 9M Feb 26 00:21 part-00021-9610adeb-1773-43e9-99cf-aa5a2e379980-c000.snappy.parquet\r\n",
      "-rw-r--r-- 1 rancher rancher 9M Feb 26 00:21 part-00022-9610adeb-1773-43e9-99cf-aa5a2e379980-c000.snappy.parquet\r\n",
      "-rw-r--r-- 1 rancher rancher 9M Feb 26 00:21 part-00023-9610adeb-1773-43e9-99cf-aa5a2e379980-c000.snappy.parquet\r\n"
     ]
    }
   ],
   "source": [
    "!ls -lR --block-size=M /home/rancher/data/fhvhv/2021/02"
   ]
  },
  {
   "cell_type": "markdown",
   "id": "415340f6",
   "metadata": {},
   "source": [
    "Answer: 209Mb"
   ]
  },
  {
   "cell_type": "markdown",
   "id": "dc4433c2",
   "metadata": {},
   "source": [
    "# Question 3 - How many records on Feb 15th 2021?"
   ]
  },
  {
   "cell_type": "code",
   "execution_count": 177,
   "id": "964af804",
   "metadata": {},
   "outputs": [],
   "source": [
    "import pyspark.sql.functions as func\n",
    "\n",
    "fhvhv_df_spark = fhvhv_df_spark.withColumn(\"day\", func.to_date(fhvhv_df_spark.pickup_datetime))"
   ]
  },
  {
   "cell_type": "code",
   "execution_count": 81,
   "id": "f609d51a",
   "metadata": {
    "scrolled": true
   },
   "outputs": [
    {
     "name": "stderr",
     "output_type": "stream",
     "text": [
      "                                                                                \r"
     ]
    },
    {
     "data": {
      "text/plain": [
       "367170"
      ]
     },
     "execution_count": 81,
     "metadata": {},
     "output_type": "execute_result"
    }
   ],
   "source": [
    "fhvhv_df_spark.filter(fhvhv_df_spark.day=='2021-02-15').count()"
   ]
  },
  {
   "cell_type": "markdown",
   "id": "490b75d4",
   "metadata": {},
   "source": [
    "Answer: 367170"
   ]
  },
  {
   "cell_type": "markdown",
   "id": "fbc35479",
   "metadata": {},
   "source": [
    "# Question 4 - What day in February 2021 had the longest trip duration?"
   ]
  },
  {
   "cell_type": "code",
   "execution_count": 281,
   "id": "16e08b96",
   "metadata": {},
   "outputs": [],
   "source": [
    "fhvhv_df_spark = fhvhv_df_spark.withColumn(\n",
    "        'trip_duration',\n",
    "        (func.col('dropoff_datetime').cast('long') - func.col('pickup_datetime').cast('long'))/60.)"
   ]
  },
  {
   "cell_type": "code",
   "execution_count": 282,
   "id": "ae26cee0",
   "metadata": {},
   "outputs": [],
   "source": [
    "fhvhv_df_spark.createOrReplaceTempView(\"fhv_feb\")\n",
    "taxi_zones.createOrReplaceTempView(\"taxi_zones_DO\")\n",
    "taxi_zones.createOrReplaceTempView(\"taxi_zones_PU\")"
   ]
  },
  {
   "cell_type": "code",
   "execution_count": 283,
   "id": "63c5373f",
   "metadata": {
    "scrolled": true
   },
   "outputs": [
    {
     "name": "stderr",
     "output_type": "stream",
     "text": [
      "[Stage 454:===============================================>         (5 + 1) / 6]\r"
     ]
    },
    {
     "name": "stdout",
     "output_type": "stream",
     "text": [
      "+----------+-------------+\n",
      "|       day|trip_duration|\n",
      "+----------+-------------+\n",
      "|2021-02-11|       1259.0|\n",
      "+----------+-------------+\n",
      "\n"
     ]
    },
    {
     "name": "stderr",
     "output_type": "stream",
     "text": [
      "\r",
      "                                                                                \r"
     ]
    }
   ],
   "source": [
    "spark.sql(\"\"\"\n",
    "SELECT day, trip_duration\n",
    "FROM fhv_feb\n",
    "WHERE trip_duration = (SELECT MAX(trip_duration)\n",
    "                        FROM fhv_feb)\n",
    "\"\"\").show()"
   ]
  },
  {
   "cell_type": "markdown",
   "id": "990f4fa9",
   "metadata": {},
   "source": [
    "Answer: 2021-02-11"
   ]
  },
  {
   "cell_type": "markdown",
   "id": "7cda3442",
   "metadata": {},
   "source": [
    "# Question 5 - How many stages does Spark need for finding most frequent dispatching_base_num?"
   ]
  },
  {
   "cell_type": "markdown",
   "id": "a7f45db4",
   "metadata": {},
   "source": [
    "### Using spark.sql"
   ]
  },
  {
   "cell_type": "code",
   "execution_count": 184,
   "id": "cf2b193f",
   "metadata": {},
   "outputs": [],
   "source": [
    "most_freq_disp_base_num = spark.sql(\"\"\"\n",
    "SELECT dispatching_base_num,\n",
    "       count(*) AS cnt\n",
    "FROM fhv_feb\n",
    "GROUP BY dispatching_base_num\n",
    "ORDER BY cnt DESC\n",
    "\"\"\")"
   ]
  },
  {
   "cell_type": "code",
   "execution_count": 185,
   "id": "1f5725f6",
   "metadata": {
    "scrolled": false
   },
   "outputs": [
    {
     "name": "stderr",
     "output_type": "stream",
     "text": [
      "[Stage 315:=======================================>             (148 + 4) / 200]\r"
     ]
    },
    {
     "name": "stdout",
     "output_type": "stream",
     "text": [
      "+--------------------+-------+\n",
      "|dispatching_base_num|    cnt|\n",
      "+--------------------+-------+\n",
      "|              B02510|3233664|\n",
      "|              B02764| 965568|\n",
      "|              B02872| 882689|\n",
      "|              B02875| 685390|\n",
      "|              B02765| 559768|\n",
      "|              B02869| 429720|\n",
      "|              B02887| 322331|\n",
      "|              B02871| 312364|\n",
      "|              B02864| 311603|\n",
      "|              B02866| 311089|\n",
      "|              B02878| 305185|\n",
      "|              B02682| 303255|\n",
      "|              B02617| 274510|\n",
      "|              B02883| 251617|\n",
      "|              B02884| 244963|\n",
      "|              B02882| 232173|\n",
      "|              B02876| 215693|\n",
      "|              B02879| 210137|\n",
      "|              B02867| 200530|\n",
      "|              B02877| 198938|\n",
      "+--------------------+-------+\n",
      "only showing top 20 rows\n",
      "\n"
     ]
    },
    {
     "name": "stderr",
     "output_type": "stream",
     "text": [
      "\r",
      "                                                                                \r"
     ]
    }
   ],
   "source": [
    "most_freq_disp_base_num.show()"
   ]
  },
  {
   "cell_type": "markdown",
   "id": "f7399920",
   "metadata": {},
   "source": [
    "Answer: 3 stages (from inspecting spark webserver jobs list)"
   ]
  },
  {
   "cell_type": "markdown",
   "id": "ab13803b",
   "metadata": {},
   "source": [
    "### Using spark groupBy"
   ]
  },
  {
   "cell_type": "code",
   "execution_count": 186,
   "id": "c2e296a7",
   "metadata": {},
   "outputs": [],
   "source": [
    "most_freq_disp_base_num_2 = fhvhv_df_spark.groupBy('dispatching_base_num').count()"
   ]
  },
  {
   "cell_type": "code",
   "execution_count": 187,
   "id": "616c4795",
   "metadata": {
    "scrolled": false
   },
   "outputs": [
    {
     "name": "stderr",
     "output_type": "stream",
     "text": [
      "[Stage 318:================================================>    (182 + 4) / 200]\r"
     ]
    },
    {
     "name": "stdout",
     "output_type": "stream",
     "text": [
      "+--------------------+-------+\n",
      "|dispatching_base_num|  count|\n",
      "+--------------------+-------+\n",
      "|              B02510|3233664|\n",
      "|              B02764| 965568|\n",
      "|              B02872| 882689|\n",
      "|              B02875| 685390|\n",
      "|              B02765| 559768|\n",
      "|              B02869| 429720|\n",
      "|              B02887| 322331|\n",
      "|              B02871| 312364|\n",
      "|              B02864| 311603|\n",
      "|              B02866| 311089|\n",
      "|              B02878| 305185|\n",
      "|              B02682| 303255|\n",
      "|              B02617| 274510|\n",
      "|              B02883| 251617|\n",
      "|              B02884| 244963|\n",
      "|              B02882| 232173|\n",
      "|              B02876| 215693|\n",
      "|              B02879| 210137|\n",
      "|              B02867| 200530|\n",
      "|              B02877| 198938|\n",
      "+--------------------+-------+\n",
      "only showing top 20 rows\n",
      "\n"
     ]
    },
    {
     "name": "stderr",
     "output_type": "stream",
     "text": [
      "\r",
      "                                                                                \r"
     ]
    }
   ],
   "source": [
    "most_freq_disp_base_num_2.sort(func.desc('count')).show()"
   ]
  },
  {
   "cell_type": "markdown",
   "id": "9c9c0c1f",
   "metadata": {},
   "source": [
    "Answer: Also 3 stages (from inspecting spark webserver jobs list)"
   ]
  },
  {
   "cell_type": "markdown",
   "id": "ee20745e",
   "metadata": {},
   "source": [
    "# Question 6 - What is the most common pickup/dropoff location pair?"
   ]
  },
  {
   "cell_type": "code",
   "execution_count": 258,
   "id": "6c538b4b",
   "metadata": {},
   "outputs": [],
   "source": [
    "zones_PU = spark.read.csv(\"/home/rancher/data/raw/taxi+_zone_lookup.csv\", header=True)\n",
    "zones_DO = spark.read.csv(\"/home/rancher/data/raw/taxi+_zone_lookup.csv\", header=True)"
   ]
  },
  {
   "cell_type": "markdown",
   "id": "2e7e34f0",
   "metadata": {},
   "source": [
    "### If using spark GroupBy"
   ]
  },
  {
   "cell_type": "code",
   "execution_count": 188,
   "id": "7c6c56bf",
   "metadata": {},
   "outputs": [],
   "source": [
    "most_common_pu_do_pair = fhvhv_df_spark.filter(fhvhv_df_spark.PULocationID != fhvhv_df_spark.DOLocationID) \\\n",
    "                                          .groupBy('PULocationID', 'DOLocationID') \\\n",
    "                                          .count() \\\n",
    "                                          .sort(func.desc('count'))"
   ]
  },
  {
   "cell_type": "code",
   "execution_count": 259,
   "id": "539af569",
   "metadata": {},
   "outputs": [],
   "source": [
    "most_common_joined = most_common_pu_do_pair.join(zones_PU,\n",
    "                                                 most_common_pu_do_pair.PULocationID==zones_PU.LocationID,\n",
    "                                                 how='left') \\\n",
    "                                           .join(zones_DO, \n",
    "                                                 most_common_pu_do_pair.DOLocationID==zones_DO.LocationID,\n",
    "                                                 how='left') \\\n",
    "                                           .select(most_common_pu_do_pair['PULocationID'],\n",
    "                                                   most_common_pu_do_pair['DOLocationID'],\n",
    "                                                   zones_PU['Zone'].alias('PU_zone'),\n",
    "                                                   zones_DO['Zone'].alias('DO_zone'),\n",
    "                                                   most_common_pu_do_pair['count']) \\\n",
    "                                           .sort(func.desc('count'))"
   ]
  },
  {
   "cell_type": "code",
   "execution_count": 260,
   "id": "fc02a869",
   "metadata": {},
   "outputs": [
    {
     "name": "stderr",
     "output_type": "stream",
     "text": [
      "[Stage 424:============================================>        (168 + 4) / 200]\r"
     ]
    },
    {
     "name": "stdout",
     "output_type": "stream",
     "text": [
      "+------------+------------+--------------------+--------------------+-----+\n",
      "|PULocationID|DOLocationID|             PU_zone|             DO_zone|count|\n",
      "+------------+------------+--------------------+--------------------+-----+\n",
      "|         132|         265|         JFK Airport|                  NA|12542|\n",
      "|         188|          61|Prospect-Lefferts...| Crown Heights North|11814|\n",
      "|          36|          37|      Bushwick North|      Bushwick South|11491|\n",
      "|          37|          36|      Bushwick South|      Bushwick North|11487|\n",
      "|          61|         188| Crown Heights North|Prospect-Lefferts...|11462|\n",
      "|          61|         225| Crown Heights North|  Stuyvesant Heights|11342|\n",
      "|         225|          61|  Stuyvesant Heights| Crown Heights North|11293|\n",
      "|          35|          76|         Brownsville|       East New York|11244|\n",
      "|          39|          76|            Canarsie|       East New York|10688|\n",
      "|          76|          35|       East New York|         Brownsville|10621|\n",
      "|          42|          41|Central Harlem North|      Central Harlem|10304|\n",
      "|          41|          42|      Central Harlem|Central Harlem North|10260|\n",
      "|          17|          61|             Bedford| Crown Heights North|10185|\n",
      "|          61|          17| Crown Heights North|             Bedford|10181|\n",
      "|         259|         265|  Woodlawn/Wakefield|                  NA|10091|\n",
      "|          77|          76|East New York/Pen...|       East New York| 9748|\n",
      "|           7|         223|             Astoria|            Steinway| 9465|\n",
      "|          76|          39|       East New York|            Canarsie| 9338|\n",
      "|         215|         130|       South Jamaica|             Jamaica| 9288|\n",
      "|          76|          77|       East New York|East New York/Pen...| 9162|\n",
      "+------------+------------+--------------------+--------------------+-----+\n",
      "only showing top 20 rows\n",
      "\n"
     ]
    },
    {
     "name": "stderr",
     "output_type": "stream",
     "text": [
      "\r",
      "                                                                                \r"
     ]
    }
   ],
   "source": [
    "most_common_joined.show()"
   ]
  },
  {
   "cell_type": "markdown",
   "id": "8130ed07",
   "metadata": {},
   "source": [
    "Answer: JFK Airport / NA"
   ]
  },
  {
   "cell_type": "markdown",
   "id": "e46d4ab2",
   "metadata": {},
   "source": [
    "#### Alternative, probably more efficient, method.  Find top 5 pairs first, then join to taxi_zones table."
   ]
  },
  {
   "cell_type": "code",
   "execution_count": 261,
   "id": "d877c0b3",
   "metadata": {},
   "outputs": [
    {
     "name": "stderr",
     "output_type": "stream",
     "text": [
      "                                                                                \r"
     ]
    }
   ],
   "source": [
    "top_5_pairs = most_common_pu_do_pair.take(5)"
   ]
  },
  {
   "cell_type": "code",
   "execution_count": 263,
   "id": "430cf5b6",
   "metadata": {},
   "outputs": [],
   "source": [
    "top_5_pairs = spark.createDataFrame(top_5_pairs)"
   ]
  },
  {
   "cell_type": "code",
   "execution_count": 264,
   "id": "18b79d8e",
   "metadata": {},
   "outputs": [
    {
     "name": "stdout",
     "output_type": "stream",
     "text": [
      "+------------+------------+-----+\n",
      "|PULocationID|DOLocationID|count|\n",
      "+------------+------------+-----+\n",
      "|         132|         265|12542|\n",
      "|         188|          61|11814|\n",
      "|          36|          37|11491|\n",
      "|          37|          36|11487|\n",
      "|          61|         188|11462|\n",
      "+------------+------------+-----+\n",
      "\n"
     ]
    }
   ],
   "source": [
    "top_5_pairs.show()"
   ]
  },
  {
   "cell_type": "code",
   "execution_count": 267,
   "id": "5b86a12c",
   "metadata": {},
   "outputs": [
    {
     "data": {
      "text/plain": [
       "['PULocationID', 'DOLocationID', 'count']"
      ]
     },
     "execution_count": 267,
     "metadata": {},
     "output_type": "execute_result"
    }
   ],
   "source": [
    "top_5_pairs.columns"
   ]
  },
  {
   "cell_type": "code",
   "execution_count": 268,
   "id": "c695973c",
   "metadata": {},
   "outputs": [],
   "source": [
    "top_5_joined = top_5_pairs.join(zones_PU,\n",
    "                                top_5_pairs.PULocationID==zones_PU.LocationID,\n",
    "                                how='left') \\\n",
    "                          .join(zones_DO,\n",
    "                                top_5_pairs.DOLocationID==zones_DO.LocationID) \\\n",
    "                          .select(top_5_pairs['PULocationID'],\n",
    "                                  top_5_pairs['DOLocationID'],\n",
    "                                  zones_PU['Zone'].alias(\"PU_zone\"),\n",
    "                                  zones_DO['Zone'].alias(\"DO_zone\"),\n",
    "                                  top_5_pairs['count'])"
   ]
  },
  {
   "cell_type": "code",
   "execution_count": 270,
   "id": "229958fe",
   "metadata": {},
   "outputs": [
    {
     "name": "stdout",
     "output_type": "stream",
     "text": [
      "+------------+------------+--------------------+--------------------+-----+\n",
      "|PULocationID|DOLocationID|             PU_zone|             DO_zone|count|\n",
      "+------------+------------+--------------------+--------------------+-----+\n",
      "|         132|         265|         JFK Airport|                  NA|12542|\n",
      "|         188|          61|Prospect-Lefferts...| Crown Heights North|11814|\n",
      "|          36|          37|      Bushwick North|      Bushwick South|11491|\n",
      "|          37|          36|      Bushwick South|      Bushwick North|11487|\n",
      "|          61|         188| Crown Heights North|Prospect-Lefferts...|11462|\n",
      "+------------+------------+--------------------+--------------------+-----+\n",
      "\n"
     ]
    }
   ],
   "source": [
    "top_5_joined.show()"
   ]
  },
  {
   "cell_type": "markdown",
   "id": "957ccde6",
   "metadata": {},
   "source": [
    "Answer: JFK Airport / NA"
   ]
  },
  {
   "cell_type": "markdown",
   "id": "d288fb8c",
   "metadata": {},
   "source": [
    "### If using spark.sql"
   ]
  },
  {
   "cell_type": "code",
   "execution_count": 274,
   "id": "e2fd1e44",
   "metadata": {},
   "outputs": [],
   "source": [
    "taxi_zones.createOrReplaceTempView(\"taxi_zones\")"
   ]
  },
  {
   "cell_type": "code",
   "execution_count": 278,
   "id": "7945bd42",
   "metadata": {},
   "outputs": [
    {
     "name": "stderr",
     "output_type": "stream",
     "text": [
      "[Stage 444:==================================================>  (191 + 4) / 200]\r"
     ]
    },
    {
     "name": "stdout",
     "output_type": "stream",
     "text": [
      "+--------------------+--------------------+-----+\n",
      "|             PU_zone|             DO_zone|  cnt|\n",
      "+--------------------+--------------------+-----+\n",
      "|         JFK Airport|                  NA|12542|\n",
      "|Prospect-Lefferts...| Crown Heights North|11814|\n",
      "|      Bushwick North|      Bushwick South|11491|\n",
      "|      Bushwick South|      Bushwick North|11487|\n",
      "| Crown Heights North|Prospect-Lefferts...|11462|\n",
      "| Crown Heights North|  Stuyvesant Heights|11342|\n",
      "|  Stuyvesant Heights| Crown Heights North|11293|\n",
      "|         Brownsville|       East New York|11244|\n",
      "|            Canarsie|       East New York|10688|\n",
      "|       East New York|         Brownsville|10621|\n",
      "+--------------------+--------------------+-----+\n",
      "\n"
     ]
    },
    {
     "name": "stderr",
     "output_type": "stream",
     "text": [
      "\r",
      "                                                                                \r"
     ]
    }
   ],
   "source": [
    "spark.sql(\n",
    "\"\"\"\n",
    "SELECT    -- fhv.day,\n",
    "          -- fhv.PULocationID,\n",
    "          -- fhv.DOLocationID,\n",
    "          -- zones_PU.LocationID,\n",
    "          zones_PU.Zone AS PU_zone,\n",
    "          -- zones_DO.LocationID,\n",
    "          zones_DO.Zone AS DO_zone,\n",
    "          COUNT(*) AS cnt -- OVER (PARTITION BY zones_PU.LocationID, zones_DO.LocationID) AS cnt\n",
    "FROM      fhv_feb AS fhv\n",
    "LEFT JOIN taxi_zones AS zones_PU\n",
    "  ON      fhv.PULocationID=zones_PU.LocationID\n",
    "LEFT JOIN taxi_zones AS zones_DO\n",
    "  ON      fhv.DOLocationID=zones_DO.LocationID\n",
    "WHERE fhv.PULocationID != fhv.DOLocationID\n",
    "-- GROUP BY fhv.PULocationID, fhv.DOLocationID\n",
    "GROUP BY zones_PU.Zone, zones_DO.Zone\n",
    "ORDER BY cnt DESC\n",
    "LIMIT 10\"\"\").show()"
   ]
  },
  {
   "cell_type": "markdown",
   "id": "d4c19381",
   "metadata": {},
   "source": [
    "Answer: JFK Airport / NA"
   ]
  },
  {
   "cell_type": "code",
   "execution_count": null,
   "id": "3c1ae37d",
   "metadata": {},
   "outputs": [],
   "source": []
  }
 ],
 "metadata": {
  "kernelspec": {
   "display_name": "Python 3 (ipykernel)",
   "language": "python",
   "name": "python3"
  },
  "language_info": {
   "codemirror_mode": {
    "name": "ipython",
    "version": 3
   },
   "file_extension": ".py",
   "mimetype": "text/x-python",
   "name": "python",
   "nbconvert_exporter": "python",
   "pygments_lexer": "ipython3",
   "version": "3.9.7"
  }
 },
 "nbformat": 4,
 "nbformat_minor": 5
}
